{
 "cells": [
  {
   "cell_type": "markdown",
   "metadata": {},
   "source": [
    "Events with Hebrew titles and \"מעון:\" prefix"
   ]
  },
  {
   "cell_type": "code",
   "execution_count": 4,
   "metadata": {},
   "outputs": [],
   "source": [
    "events_hebrew = [\n",
    "    {\"name\": \"מעון: חופשת ראש השנה\", \"start\": \"20241002\", \"end\": \"20241006\"},\n",
    "    {\"name\": \"מעון: חופשת יום כיפור\", \"start\": \"20241011\", \"end\": \"20241013\"},\n",
    "    {\"name\": \"מעון: חופשת סוכות א'\", \"start\": \"20241016\", \"end\": \"20241020\"},\n",
    "    {\"name\": \"מעון: חופשת סוכות ב'\", \"start\": \"20241023\", \"end\": \"20241025\"},\n",
    "    {\"name\": \"מעון: חופשת חנוכה\", \"start\": \"20241227\", \"end\": \"20241229\"},\n",
    "    {\"name\": \"מעון: מתחפשים\", \"start\": \"20250314\", \"end\": \"20250315\"},\n",
    "    {\"name\": \"מעון: חופשת פורים\", \"start\": \"20250316\", \"end\": \"20250317\"},\n",
    "    {\"name\": \"מעון: חופשת פסח\", \"start\": \"20250411\", \"end\": \"20250420\"},\n",
    "    {\"name\": \"מעון: יום הזיכרון (סיום לימודים מוקדם ב-12:15)\", \"start\": \"20250430\", \"end\": \"20250430\"},\n",
    "    {\"name\": \"מעון: חופשת יום העצמאות\", \"start\": \"20250501\", \"end\": \"20250502\"},\n",
    "    {\"name\": \"מעון: חופשת שבועות\", \"start\": \"20250601\", \"end\": \"20250603\"},\n",
    "    {\"name\": \"מעון: חופשת תשעה באב\", \"start\": \"20250803\", \"end\": \"20250804\"},\n",
    "    {\"name\": \"מעון: סיום שנת הלימודים\", \"start\": \"20250808\", \"end\": \"20250808\"},\n",
    "    {\"name\": \"מעון: תחילת שנת הלימודים\", \"start\": \"20250901\", \"end\": \"20250901\"}\n",
    "]"
   ]
  },
  {
   "cell_type": "code",
   "execution_count": 5,
   "metadata": {},
   "outputs": [],
   "source": [
    "ics_content_hebrew = \"\"\"BEGIN:VCALENDAR\n",
    "VERSION:2.0\n",
    "CALSCALE:GREGORIAN\n",
    "METHOD:PUBLISH\n",
    "\"\"\"\n",
    "\n",
    "for event in events_hebrew:\n",
    "    ics_content_hebrew += f\"\"\"BEGIN:VEVENT\n",
    "SUMMARY:{event[\"name\"]}\n",
    "DTSTART;VALUE=DATE:{event[\"start\"]}\n",
    "DTEND;VALUE=DATE:{event[\"end\"]}\n",
    "END:VEVENT\n",
    "\"\"\"\n",
    "    \n",
    "ics_content_hebrew += \"END:VCALENDAR\""
   ]
  },
  {
   "cell_type": "markdown",
   "metadata": {},
   "source": [
    "Saving the updated ICS file"
   ]
  },
  {
   "cell_type": "code",
   "execution_count": 6,
   "metadata": {},
   "outputs": [],
   "source": [
    "ics_file_path_hebrew = \"./vacation_calendar_5781_hebrew.ics\"\n",
    "with open(ics_file_path_hebrew, \"w\") as f:\n",
    "    f.write(ics_content_hebrew)"
   ]
  }
 ],
 "metadata": {
  "kernelspec": {
   "display_name": "Python 3",
   "language": "python",
   "name": "python3"
  },
  "language_info": {
   "codemirror_mode": {
    "name": "ipython",
    "version": 3
   },
   "file_extension": ".py",
   "mimetype": "text/x-python",
   "name": "python",
   "nbconvert_exporter": "python",
   "pygments_lexer": "ipython3",
   "version": "3.9.6"
  }
 },
 "nbformat": 4,
 "nbformat_minor": 2
}
